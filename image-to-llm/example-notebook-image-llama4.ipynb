{
 "cells": [
  {
   "cell_type": "code",
   "execution_count": 0,
   "metadata": {
    "application/vnd.databricks.v1+cell": {
     "cellMetadata": {
      "byteLimit": 2048000,
      "rowLimit": 10000
     },
     "inputWidgets": {},
     "nuid": "9c56474f-9e52-4e28-b159-37dac5bd519d",
     "showTitle": false,
     "tableResultSettingsMap": {},
     "title": ""
    }
   },
   "outputs": [],
   "source": [
    "%pip install openai"
   ]
  },
  {
   "cell_type": "code",
   "execution_count": 0,
   "metadata": {
    "application/vnd.databricks.v1+cell": {
     "cellMetadata": {
      "byteLimit": 2048000,
      "rowLimit": 10000
     },
     "inputWidgets": {},
     "nuid": "2c7612c9-0ccc-4434-96af-f12c4c0353f3",
     "showTitle": false,
     "tableResultSettingsMap": {},
     "title": ""
    }
   },
   "outputs": [],
   "source": [
    "model_endpoint = \"databricks-llama-4-maverick\" #  \"databricks-claude-3-7-sonnet\" # "
   ]
  },
  {
   "cell_type": "markdown",
   "metadata": {
    "application/vnd.databricks.v1+cell": {
     "cellMetadata": {
      "byteLimit": 2048000,
      "rowLimit": 10000
     },
     "inputWidgets": {},
     "nuid": "b2c4faa5-df92-4567-bd3a-a234526eba55",
     "showTitle": false,
     "tableResultSettingsMap": {},
     "title": ""
    }
   },
   "source": [
    "# Load image directly from code"
   ]
  },
  {
   "cell_type": "code",
   "execution_count": 0,
   "metadata": {
    "application/vnd.databricks.v1+cell": {
     "cellMetadata": {
      "byteLimit": 2048000,
      "rowLimit": 10000
     },
     "inputWidgets": {},
     "nuid": "61a2a0e0-2358-4ad2-a368-08b8a6069114",
     "showTitle": false,
     "tableResultSettingsMap": {},
     "title": ""
    }
   },
   "outputs": [],
   "source": [
    "from openai import OpenAI\n",
    "import os\n",
    "\n",
    "# How to get your Databricks token: https://docs.databricks.com/en/dev-tools/auth/pat.html\n",
    "#DATABRICKS_TOKEN = os.environ.get('DATABRICKS_TOKEN')\n",
    "# Alternatively in a Databricks notebook you can use this:\n",
    "DATABRICKS_TOKEN = dbutils.notebook.entry_point.getDbutils().notebook().getContext().apiToken().get()\n",
    "workspaceUrl = dbutils.notebook.entry_point.getDbutils().notebook().getContext().apiUrl().get()\n",
    "\n",
    "client = OpenAI(\n",
    "  api_key=DATABRICKS_TOKEN,\n",
    "  base_url=f\"{workspaceUrl}/serving-endpoints\"\n",
    ")\n",
    "img_base64 = \"data:image/png;base64,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\"\n",
    "image_content = [\n",
    "                {\n",
    "                    \"type\": \"text\",\n",
    "                    \"text\": \"what is this image ?\"\n",
    "                },\n",
    "                {\n",
    "                    \"type\": \"image_url\",\n",
    "                    \"image_url\": {\n",
    "                        \"url\": img_base64\n",
    "                    }\n",
    "                }\n",
    "            ]\n",
    "chat_completion = client.chat.completions.create(\n",
    "  messages=[\n",
    "  {\n",
    "    \"role\": \"system\",\n",
    "    \"content\": \"You are an AI assistant\"\n",
    "  },\n",
    "  {\n",
    "    \"role\": \"user\",\n",
    "    \"content\": image_content\n",
    "  }\n",
    "  ],\n",
    "  model=model_endpoint,\n",
    "  max_tokens=256\n",
    ")\n",
    "\n",
    "print(chat_completion.choices[0].message.content)"
   ]
  },
  {
   "cell_type": "markdown",
   "metadata": {
    "application/vnd.databricks.v1+cell": {
     "cellMetadata": {
      "byteLimit": 2048000,
      "rowLimit": 10000
     },
     "inputWidgets": {},
     "nuid": "6a13b705-ccee-41ca-a7c7-d0d62eb83ba9",
     "showTitle": false,
     "tableResultSettingsMap": {},
     "title": ""
    }
   },
   "source": [
    "# load image directly from workspace"
   ]
  },
  {
   "cell_type": "code",
   "execution_count": 0,
   "metadata": {
    "application/vnd.databricks.v1+cell": {
     "cellMetadata": {
      "byteLimit": 2048000,
      "rowLimit": 10000
     },
     "inputWidgets": {},
     "nuid": "efd01465-3019-4e85-a76b-89b19d1cb2b0",
     "showTitle": false,
     "tableResultSettingsMap": {},
     "title": ""
    }
   },
   "outputs": [],
   "source": [
    "import base64\n",
    "\n",
    "with open(\"img/img-a86725b4d4b9f0507843550811bd3b62.png\", 'rb') as fp:\n",
    "    img_base64 = \"data:image/png;base64,\" + base64.b64encode(fp.read()).decode('utf-8')"
   ]
  },
  {
   "cell_type": "code",
   "execution_count": 0,
   "metadata": {
    "application/vnd.databricks.v1+cell": {
     "cellMetadata": {
      "byteLimit": 2048000,
      "rowLimit": 10000
     },
     "inputWidgets": {},
     "nuid": "53d15f03-12bf-409a-95c5-5562104336f6",
     "showTitle": false,
     "tableResultSettingsMap": {},
     "title": ""
    }
   },
   "outputs": [],
   "source": [
    "from openai import OpenAI\n",
    "import os\n",
    "\n",
    "# How to get your Databricks token: https://docs.databricks.com/en/dev-tools/auth/pat.html\n",
    "#DATABRICKS_TOKEN = os.environ.get('DATABRICKS_TOKEN')\n",
    "# Alternatively in a Databricks notebook you can use this:\n",
    "DATABRICKS_TOKEN = dbutils.notebook.entry_point.getDbutils().notebook().getContext().apiToken().get()\n",
    "workspaceUrl = dbutils.notebook.entry_point.getDbutils().notebook().getContext().apiUrl().get()\n",
    "\n",
    "client = OpenAI(\n",
    "  api_key=DATABRICKS_TOKEN,\n",
    "  base_url=f\"{workspaceUrl}/serving-endpoints\"\n",
    ")\n",
    "\n",
    "image_content = [\n",
    "                {\n",
    "                    \"type\": \"text\",\n",
    "                    \"text\": \"what is this image ?\"\n",
    "                },\n",
    "                {\n",
    "                    \"type\": \"image_url\",\n",
    "                    \"image_url\": {\n",
    "                        \"url\": img_base64\n",
    "                    }\n",
    "                }\n",
    "            ]\n",
    "chat_completion = client.chat.completions.create(\n",
    "  messages=[\n",
    "  {\n",
    "    \"role\": \"system\",\n",
    "    \"content\": \"You are an AI assistant\"\n",
    "  },\n",
    "  {\n",
    "    \"role\": \"user\",\n",
    "    \"content\": image_content\n",
    "  }\n",
    "  ],\n",
    "  model=model_endpoint,\n",
    "  max_tokens=256\n",
    ")\n",
    "\n",
    "print(chat_completion.choices[0].message.content)"
   ]
  },
  {
   "cell_type": "markdown",
   "metadata": {
    "application/vnd.databricks.v1+cell": {
     "cellMetadata": {
      "byteLimit": 2048000,
      "rowLimit": 10000
     },
     "inputWidgets": {},
     "nuid": "e2863c05-9206-4ae3-b975-76028a681e7b",
     "showTitle": false,
     "tableResultSettingsMap": {},
     "title": ""
    }
   },
   "source": [
    "# load image directly from volume"
   ]
  },
  {
   "cell_type": "code",
   "execution_count": 0,
   "metadata": {
    "application/vnd.databricks.v1+cell": {
     "cellMetadata": {
      "byteLimit": 2048000,
      "rowLimit": 10000
     },
     "inputWidgets": {},
     "nuid": "1b4a570c-30be-4a19-99c6-058005576e0c",
     "showTitle": false,
     "tableResultSettingsMap": {},
     "title": ""
    }
   },
   "outputs": [],
   "source": [
    "path = \"/Volumes/<make your catalog here>/imageload/images/img-a86725b4d4b9f0507843550811bd3b62.png\"\n",
    "dbutils.notebook.exit(\"Change this\")"
   ]
  },
  {
   "cell_type": "code",
   "execution_count": 0,
   "metadata": {
    "application/vnd.databricks.v1+cell": {
     "cellMetadata": {
      "byteLimit": 2048000,
      "rowLimit": 10000
     },
     "inputWidgets": {},
     "nuid": "b9711d6a-0743-4bfc-a6ce-9a92220dc645",
     "showTitle": false,
     "tableResultSettingsMap": {},
     "title": ""
    }
   },
   "outputs": [],
   "source": [
    "import base64\n",
    "\n",
    "with open(path, 'rb') as fp:\n",
    "    img_base64 = \"data:image/png;base64,\" + base64.b64encode(fp.read()).decode('utf-8')"
   ]
  },
  {
   "cell_type": "code",
   "execution_count": 0,
   "metadata": {
    "application/vnd.databricks.v1+cell": {
     "cellMetadata": {
      "byteLimit": 2048000,
      "rowLimit": 10000
     },
     "inputWidgets": {},
     "nuid": "ff798445-6720-49d7-96da-ee434d099b2b",
     "showTitle": false,
     "tableResultSettingsMap": {},
     "title": ""
    }
   },
   "outputs": [],
   "source": [
    "from openai import OpenAI\n",
    "import os\n",
    "\n",
    "# How to get your Databricks token: https://docs.databricks.com/en/dev-tools/auth/pat.html\n",
    "#DATABRICKS_TOKEN = os.environ.get('DATABRICKS_TOKEN')\n",
    "# Alternatively in a Databricks notebook you can use this:\n",
    "DATABRICKS_TOKEN = dbutils.notebook.entry_point.getDbutils().notebook().getContext().apiToken().get()\n",
    "workspaceUrl = dbutils.notebook.entry_point.getDbutils().notebook().getContext().apiUrl().get()\n",
    "\n",
    "client = OpenAI(\n",
    "  api_key=DATABRICKS_TOKEN,\n",
    "  base_url=f\"{workspaceUrl}/serving-endpoints\"\n",
    ")\n",
    "\n",
    "image_content = [\n",
    "                {\n",
    "                    \"type\": \"text\",\n",
    "                    \"text\": \"what is this image ?\"\n",
    "                },\n",
    "                {\n",
    "                    \"type\": \"image_url\",\n",
    "                    \"image_url\": {\n",
    "                        \"url\": img_base64\n",
    "                    }\n",
    "                }\n",
    "            ]\n",
    "chat_completion = client.chat.completions.create(\n",
    "  messages=[\n",
    "  {\n",
    "    \"role\": \"system\",\n",
    "    \"content\": \"You are an AI assistant\"\n",
    "  },\n",
    "  {\n",
    "    \"role\": \"user\",\n",
    "    \"content\": image_content\n",
    "  }\n",
    "  ],\n",
    "  model=model_endpoint,\n",
    "  max_tokens=256\n",
    ")\n",
    "\n",
    "print(chat_completion.choices[0].message.content)"
   ]
  }
 ],
 "metadata": {
  "application/vnd.databricks.v1+notebook": {
   "computePreferences": {
    "hardware": {
     "accelerator": null,
     "gpuPoolId": null,
     "memory": null
    }
   },
   "dashboards": [],
   "environmentMetadata": {
    "base_environment": "",
    "environment_version": "2"
   },
   "inputWidgetPreferences": null,
   "language": "python",
   "notebookMetadata": {
    "pythonIndentUnit": 2
   },
   "notebookName": "example-notebook-image-llama4",
   "widgets": {}
  },
  "language_info": {
   "name": "python"
  }
 },
 "nbformat": 4,
 "nbformat_minor": 0
}
