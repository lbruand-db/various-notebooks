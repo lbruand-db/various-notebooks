{
 "cells": [
  {
   "cell_type": "code",
   "execution_count": 0,
   "metadata": {
    "application/vnd.databricks.v1+cell": {
     "cellMetadata": {
      "byteLimit": 2048000,
      "rowLimit": 10000
     },
     "inputWidgets": {},
     "nuid": "41664ec4-5943-4967-8d7b-6d005685add4",
     "showTitle": false,
     "tableResultSettingsMap": {},
     "title": ""
    }
   },
   "outputs": [],
   "source": [
    "%pip install fiona py7zr tqdm shapely pyproj geopandas"
   ]
  },
  {
   "cell_type": "code",
   "execution_count": 0,
   "metadata": {
    "application/vnd.databricks.v1+cell": {
     "cellMetadata": {
      "byteLimit": 2048000,
      "rowLimit": 10000
     },
     "inputWidgets": {},
     "nuid": "4610d2fb-d33e-41d0-8359-92e8bcd8e0b7",
     "showTitle": false,
     "tableResultSettingsMap": {},
     "title": ""
    }
   },
   "outputs": [],
   "source": [
    "catalog = \"lucasbruand_catalog\"\n",
    "schema = \"ign_bdtopo\"\n",
    "volume = \"bronze_volume\"\n",
    "file_prefix = \"fileprefix\"\n",
    "dept=\"D001\"\n",
    "layer = \"batiment\"\n",
    "target_table = f\"ign_bdtopo_{layer}\""
   ]
  },
  {
   "cell_type": "code",
   "execution_count": 0,
   "metadata": {
    "application/vnd.databricks.v1+cell": {
     "cellMetadata": {
      "byteLimit": 2048000,
      "rowLimit": 10000
     },
     "inputWidgets": {},
     "nuid": "172d63e2-d7d2-421f-b1ab-51daa5b3e0b8",
     "showTitle": false,
     "tableResultSettingsMap": {},
     "title": ""
    }
   },
   "outputs": [],
   "source": [
    "orig_file = \"/Volumes/lucasbruand_catalog/ign_bdtopo/bronze_volume/fileprefix/BDTOPO_3-5_TOUSTHEMES_GPKG_LAMB93_D001_2025-09-15.7z\"\n",
    "subfile_in_archive = \"\""
   ]
  },
  {
   "cell_type": "code",
   "execution_count": 0,
   "metadata": {
    "application/vnd.databricks.v1+cell": {
     "cellMetadata": {},
     "inputWidgets": {},
     "nuid": "742c05d4-9b15-49a3-941f-b8d7f147007a",
     "showTitle": true,
     "tableResultSettingsMap": {},
     "title": "List files in 7z archive"
    }
   },
   "outputs": [],
   "source": []
  },
  {
   "cell_type": "code",
   "execution_count": 0,
   "metadata": {
    "application/vnd.databricks.v1+cell": {
     "cellMetadata": {
      "byteLimit": 2048000,
      "rowLimit": 10000
     },
     "inputWidgets": {},
     "nuid": "29c0c597-222d-4465-bcb1-df1203660266",
     "showTitle": false,
     "tableResultSettingsMap": {},
     "title": ""
    }
   },
   "outputs": [],
   "source": [
    "import py7zr\n",
    "\n",
    "def list_files_in_7z(archive_path):\n",
    "    \"\"\"\n",
    "    List all files contained in a .7z archive using py7zr.\n",
    "    Args:\n",
    "        archive_path (str): Path to the .7z archive file.\n",
    "    Returns:\n",
    "        List[str]: List of file names inside the archive.\n",
    "    \"\"\"\n",
    "    with py7zr.SevenZipFile(archive_path, mode='r') as archive:\n",
    "        return archive.getnames()\n"
   ]
  },
  {
   "cell_type": "code",
   "execution_count": 0,
   "metadata": {
    "application/vnd.databricks.v1+cell": {
     "cellMetadata": {
      "byteLimit": 2048000,
      "rowLimit": 10000
     },
     "inputWidgets": {},
     "nuid": "570d335e-79c9-4ae7-828d-cdfaa5b64823",
     "showTitle": false,
     "tableResultSettingsMap": {},
     "title": ""
    }
   },
   "outputs": [],
   "source": [
    "def get_payload_filename(orig_file):\n",
    "  return [ filename for filename in list_files_in_7z(orig_file) if filename.endswith(\".gpkg\")][0]"
   ]
  },
  {
   "cell_type": "code",
   "execution_count": 0,
   "metadata": {
    "application/vnd.databricks.v1+cell": {
     "cellMetadata": {
      "byteLimit": 2048000,
      "rowLimit": 10000
     },
     "inputWidgets": {},
     "nuid": "7ac82e51-678a-4a1b-a550-b1532e0fc03e",
     "showTitle": false,
     "tableResultSettingsMap": {},
     "title": ""
    }
   },
   "outputs": [],
   "source": [
    "table_schema = \"\"\"\n",
    "Table schema:\n",
    "root\n",
    "-- id: string (nullable = true)\n",
    "-- dept: string (nullable = true)\n",
    "-- layer: string (nullable = true)\n",
    "-- cleabs: string (nullable = true)\n",
    "-- nature: string (nullable = true)\n",
    "-- usage_1: string (nullable = true)\n",
    "-- usage_2: string (nullable = true)\n",
    "-- construction_legere: boolean (nullable = true)\n",
    "-- etat_de_l_objet: string (nullable = true)\n",
    "-- date_creation: timestamp (nullable = true)\n",
    "-- date_modification: timestamp (nullable = true)\n",
    "-- date_d_apparition: timestamp (nullable = true)\n",
    "-- date_de_confirmation: timestamp (nullable = true)\n",
    "-- sources: string (nullable = true)\n",
    "-- identifiants_sources: string (nullable = true)\n",
    "-- methode_d_acquisition_planimetrique: string (nullable = true)\n",
    "-- methode_d_acquisition_altimetrique: string (nullable = true)\n",
    "-- precision_planimetrique: double (nullable = true)\n",
    "-- precision_altimetrique: double (nullable = true)\n",
    "-- nombre_de_logements: double (nullable = true)\n",
    "-- nombre_d_etages: double (nullable = true)\n",
    "-- materiaux_des_murs: string (nullable = true)\n",
    "-- materiaux_de_la_toiture: string (nullable = true)\n",
    "-- hauteur: double (nullable = true)\n",
    "-- altitude_minimale_sol: double (nullable = true)\n",
    "-- altitude_minimale_toit: double (nullable = true)\n",
    "-- altitude_maximale_toit: double (nullable = true)\n",
    "-- altitude_maximale_sol: double (nullable = true)\n",
    "-- origine_du_batiment: string (nullable = true)\n",
    "-- appariement_fichiers_fonciers: string (nullable = true)\n",
    "-- identifiants_rnb: string (nullable = true)\n",
    "-- geometry: string (nullable = true)\"\"\"\n",
    "\n"
   ]
  },
  {
   "cell_type": "code",
   "execution_count": 0,
   "metadata": {
    "application/vnd.databricks.v1+cell": {
     "cellMetadata": {
      "byteLimit": 2048000,
      "rowLimit": 10000
     },
     "inputWidgets": {},
     "nuid": "12667eeb-da30-441c-b80a-7eb849867b6e",
     "showTitle": false,
     "tableResultSettingsMap": {},
     "title": ""
    }
   },
   "outputs": [],
   "source": [
    "spark.sql(f\"DROP TABLE IF EXISTS {catalog}.{schema}.{target_table}\")"
   ]
  },
  {
   "cell_type": "code",
   "execution_count": 0,
   "metadata": {
    "application/vnd.databricks.v1+cell": {
     "cellMetadata": {
      "byteLimit": 2048000,
      "rowLimit": 10000
     },
     "inputWidgets": {},
     "nuid": "ca2a50f8-5448-49ed-a233-f42f147fd1a5",
     "showTitle": false,
     "tableResultSettingsMap": {},
     "title": ""
    }
   },
   "outputs": [],
   "source": [
    "import re\n",
    "\n",
    "def parse_table_schema(schema_str, table_name):\n",
    "    lines = schema_str.strip().split('\\n')\n",
    "    columns = []\n",
    "    for line in lines:\n",
    "        m = re.match(r\"-- ([\\w_']+): ([\\w\\s\\(\\)]+)\", line.strip())\n",
    "        if m:\n",
    "            col = m.group(1).replace(\"'\", \"\")\n",
    "            typ = m.group(2).split()[0]\n",
    "            # Map Spark types to SQL types\n",
    "            type_map = {\n",
    "                \"string\": \"STRING\",\n",
    "                \"boolean\": \"BOOLEAN\",\n",
    "                \"double\": \"DOUBLE\",\n",
    "                \"integer\": \"INT\",\n",
    "                \"date\": \"DATE\",\n",
    "                \"timestamp\": \"TIMESTAMP\"\n",
    "            }\n",
    "            sql_type = type_map.get(typ, \"STRING\")\n",
    "            if col == \"geometry\":\n",
    "                #columns.append(f\"`{col}` GEOMETRY (4326)\")\n",
    "                columns.append(f\"`{col}` {sql_type}\")\n",
    "            else:\n",
    "                columns.append(f\"`{col}` {sql_type}\")\n",
    "    cols_str = \",\\n  \".join(columns)\n",
    "    return f\"CREATE TABLE IF NOT EXISTS {table_name} (\\n  {cols_str}\\n) USING DELTA\"\n",
    "\n",
    "create_stmt = parse_table_schema(table_schema, f\"{catalog}.{schema}.{target_table}\")\n",
    "print(create_stmt)"
   ]
  },
  {
   "cell_type": "code",
   "execution_count": 0,
   "metadata": {
    "application/vnd.databricks.v1+cell": {
     "cellMetadata": {
      "byteLimit": 2048000,
      "rowLimit": 10000
     },
     "inputWidgets": {},
     "nuid": "35ab7f2c-0791-48bf-bb21-e3ea2809791d",
     "showTitle": false,
     "tableResultSettingsMap": {},
     "title": ""
    }
   },
   "outputs": [],
   "source": [
    "spark.sql(create_stmt)"
   ]
  },
  {
   "cell_type": "code",
   "execution_count": 0,
   "metadata": {
    "application/vnd.databricks.v1+cell": {
     "cellMetadata": {},
     "inputWidgets": {},
     "nuid": "d41ae894-bdf1-43d7-8527-7f840dbc091c",
     "showTitle": true,
     "tableResultSettingsMap": {},
     "title": "Load .gpkg features from 7z archive to Delta table"
    }
   },
   "outputs": [],
   "source": []
  },
  {
   "cell_type": "code",
   "execution_count": 0,
   "metadata": {
    "application/vnd.databricks.v1+cell": {
     "cellMetadata": {
      "byteLimit": 2048000,
      "rowLimit": 10000
     },
     "inputWidgets": {},
     "nuid": "2d4bd8a4-0293-41f6-8d83-746939a85ab1",
     "showTitle": false,
     "tableResultSettingsMap": {},
     "title": ""
    }
   },
   "outputs": [],
   "source": [
    "import py7zr\n",
    "import tempfile\n",
    "import os\n",
    "import geopandas as gpd\n",
    "\n",
    "def load_gpkg_from_7z_to_geopandas(orig_file, dept, layer=None):\n",
    "    \"\"\"\n",
    "    Extract the .gpkg file from a 7z archive and load up to 100 rows into a GeoPandas DataFrame.\n",
    "    Args:\n",
    "        orig_file (str): Path to the .7z archive.\n",
    "        layer (str or None): Layer name to load from the .gpkg file (default: None, loads the first layer).\n",
    "    Returns:\n",
    "        geopandas.GeoDataFrame: The loaded geospatial data (up to 100 rows).\n",
    "    \"\"\"\n",
    "    with py7zr.SevenZipFile(orig_file, mode='r') as archive:\n",
    "        payload_files = [name for name in archive.getnames() if name.endswith('.gpkg')]\n",
    "        if not payload_files:\n",
    "            raise FileNotFoundError(\"No .gpkg file found in archive.\")\n",
    "        payload_name = payload_files[0]\n",
    "        with tempfile.TemporaryDirectory() as tmpdir:\n",
    "            archive.extract(targets=[payload_name], path=tmpdir)\n",
    "            payload_path = os.path.join(tmpdir, payload_name)\n",
    "            gdf = gpd.read_file(payload_path, layer=layer, rows=1000)\n",
    "            gdf[\"dept\"] = dept\n",
    "            gdf[\"layer\"] = layer\n",
    "            return gdf\n"
   ]
  },
  {
   "cell_type": "code",
   "execution_count": 0,
   "metadata": {
    "application/vnd.databricks.v1+cell": {
     "cellMetadata": {
      "byteLimit": 2048000,
      "rowLimit": 10000
     },
     "inputWidgets": {},
     "nuid": "7db4524a-beb7-4c63-b846-a89ef59ce13f",
     "showTitle": false,
     "tableResultSettingsMap": {},
     "title": ""
    }
   },
   "outputs": [],
   "source": [
    "df = load_gpkg_from_7z_to_geopandas(orig_file, dept=\"D001\", layer=layer)"
   ]
  },
  {
   "cell_type": "code",
   "execution_count": 0,
   "metadata": {
    "application/vnd.databricks.v1+cell": {
     "cellMetadata": {
      "byteLimit": 2048000,
      "rowLimit": 10000
     },
     "inputWidgets": {},
     "nuid": "bb234bc3-242d-43d9-86ac-6400b738702a",
     "showTitle": false,
     "tableResultSettingsMap": {},
     "title": ""
    }
   },
   "outputs": [],
   "source": [
    "df['geometry'] = df['geometry'].astype(str)\n",
    "sdf = spark.createDataFrame(df)"
   ]
  },
  {
   "cell_type": "code",
   "execution_count": 0,
   "metadata": {
    "application/vnd.databricks.v1+cell": {
     "cellMetadata": {
      "byteLimit": 2048000,
      "rowLimit": 10000
     },
     "inputWidgets": {},
     "nuid": "187c729f-17af-4869-8b93-fd9a6d884017",
     "showTitle": false,
     "tableResultSettingsMap": {},
     "title": ""
    }
   },
   "outputs": [],
   "source": [
    "full_table_name = f\"{catalog}.{schema}.{target_table}\"\n",
    "sdf.write.format(\"delta\").mode(\"append\").saveAsTable(full_table_name)"
   ]
  },
  {
   "cell_type": "code",
   "execution_count": 0,
   "metadata": {
    "application/vnd.databricks.v1+cell": {
     "cellMetadata": {},
     "inputWidgets": {},
     "nuid": "332e7e13-b4d8-4b28-9103-34d7571a57ee",
     "showTitle": false,
     "tableResultSettingsMap": {},
     "title": ""
    }
   },
   "outputs": [],
   "source": []
  }
 ],
 "metadata": {
  "application/vnd.databricks.v1+notebook": {
   "computePreferences": {
    "hardware": {
     "accelerator": null,
     "gpuPoolId": null,
     "memory": null
    }
   },
   "dashboards": [],
   "environmentMetadata": {
    "base_environment": "dbe_0c235d96-4bc7-4fb5-b118-17fd1dad0124",
    "environment_version": "4"
   },
   "inputWidgetPreferences": null,
   "language": "python",
   "notebookMetadata": {
    "pythonIndentUnit": 2
   },
   "notebookName": "02_extract_load_gpkg",
   "widgets": {}
  },
  "language_info": {
   "name": "python"
  }
 },
 "nbformat": 4,
 "nbformat_minor": 0
}
