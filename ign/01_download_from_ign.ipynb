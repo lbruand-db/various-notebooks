{
 "cells": [
  {
   "cell_type": "code",
   "execution_count": 0,
   "metadata": {
    "application/vnd.databricks.v1+cell": {
     "cellMetadata": {
      "byteLimit": 2048000,
      "rowLimit": 10000
     },
     "inputWidgets": {},
     "nuid": "5d630863-82ce-4845-816f-9f9e704dbb25",
     "showTitle": false,
     "tableResultSettingsMap": {},
     "title": ""
    }
   },
   "outputs": [],
   "source": [
    "%pip install tqdm"
   ]
  },
  {
   "cell_type": "code",
   "execution_count": 0,
   "metadata": {
    "application/vnd.databricks.v1+cell": {
     "cellMetadata": {
      "byteLimit": 2048000,
      "rowLimit": 10000
     },
     "inputWidgets": {},
     "nuid": "47c9d962-1db5-48ce-9abb-d43e3c2b9fe5",
     "showTitle": false,
     "tableResultSettingsMap": {},
     "title": ""
    }
   },
   "outputs": [],
   "source": [
    "catalog = \"lucasbruand_catalog\"\n",
    "schema = \"ign_bdtopo\"\n",
    "volume = \"bronze_volume\""
   ]
  },
  {
   "cell_type": "code",
   "execution_count": 0,
   "metadata": {
    "application/vnd.databricks.v1+cell": {
     "cellMetadata": {
      "byteLimit": 2048000,
      "rowLimit": 10000
     },
     "inputWidgets": {},
     "nuid": "44a1a1a1-fa18-4be9-b23e-01e652be9c2c",
     "showTitle": false,
     "tableResultSettingsMap": {},
     "title": ""
    }
   },
   "outputs": [],
   "source": [
    "spark.sql(f\"CREATE SCHEMA IF NOT EXISTS {catalog}.{schema}\")\n",
    "spark.sql(f\"CREATE VOLUME IF NOT EXISTS {catalog}.{schema}.{volume}\")"
   ]
  },
  {
   "cell_type": "code",
   "execution_count": 0,
   "metadata": {
    "application/vnd.databricks.v1+cell": {
     "cellMetadata": {
      "byteLimit": 2048000,
      "rowLimit": 10000
     },
     "inputWidgets": {},
     "nuid": "a895d17d-9e1a-4b40-9c2a-de41eedc243a",
     "showTitle": false,
     "tableResultSettingsMap": {},
     "title": ""
    }
   },
   "outputs": [],
   "source": [
    "version_date = \"2025-09-15\"\n",
    "version = \"3-5\"\n",
    "package = \"GPKG\"\n",
    "projection = \"LAMB93\"\n",
    "dept = \"D001\""
   ]
  },
  {
   "cell_type": "code",
   "execution_count": 0,
   "metadata": {
    "application/vnd.databricks.v1+cell": {
     "cellMetadata": {
      "byteLimit": 2048000,
      "rowLimit": 10000
     },
     "inputWidgets": {},
     "nuid": "e7d52b8d-9c02-4907-a56e-c2102b6d5c84",
     "showTitle": false,
     "tableResultSettingsMap": {},
     "title": ""
    }
   },
   "outputs": [],
   "source": [
    "def build_download_url(version_date,\n",
    "                       version,\n",
    "                       package,\n",
    "                       projection,\n",
    "                       dept):\n",
    "  return f\"https://data.geopf.fr/telechargement/download/BDTOPO/BDTOPO_{version}_TOUSTHEMES_{package}_{projection}_{dept}_{version_date}/BDTOPO_{version}_TOUSTHEMES_{package}_{projection}_{dept}_{version_date}.7z\""
   ]
  },
  {
   "cell_type": "code",
   "execution_count": 0,
   "metadata": {
    "application/vnd.databricks.v1+cell": {
     "cellMetadata": {
      "byteLimit": 2048000,
      "rowLimit": 10000
     },
     "inputWidgets": {},
     "nuid": "a6cd91b7-6471-4015-813e-658b9dad3799",
     "showTitle": false,
     "tableResultSettingsMap": {},
     "title": ""
    }
   },
   "outputs": [],
   "source": [
    "url = build_download_url(version_date,\n",
    "                       version,\n",
    "                       package,\n",
    "                       projection,\n",
    "                       dept)\n",
    "print(url)"
   ]
  },
  {
   "cell_type": "code",
   "execution_count": 0,
   "metadata": {
    "application/vnd.databricks.v1+cell": {
     "cellMetadata": {
      "byteLimit": 2048000,
      "rowLimit": 10000
     },
     "inputWidgets": {},
     "nuid": "36674779-4b06-4e69-9004-3fd9ee6d9bc6",
     "showTitle": false,
     "tableResultSettingsMap": {},
     "title": ""
    }
   },
   "outputs": [],
   "source": [
    "import requests\n",
    "import time\n",
    "from requests.adapters import HTTPAdapter\n",
    "from urllib3.util.retry import Retry\n",
    "from tqdm import tqdm\n",
    "\n",
    "\n",
    "def download_file_with_retries(url, dest_path, max_retries=5, backoff_factor=1.0, chunk_size=1024*1024):\n",
    "    \"\"\"\n",
    "    Download a file from a URL to a Databricks volume with retry logic and progress bar.\n",
    "    Args:\n",
    "        url (str): The URL to download from.\n",
    "        dest_path (str): The full destination path in the Databricks volume (e.g., '/Volumes/catalog/schema/volume/filename').\n",
    "        max_retries (int): Maximum number of retries for failed requests.\n",
    "        backoff_factor (float): Backoff factor for retries.\n",
    "        chunk_size (int): Size of chunks to write at a time (default 1MB).\n",
    "    \"\"\"\n",
    "    session = requests.Session()\n",
    "    retries = Retry(\n",
    "        total=max_retries,\n",
    "        backoff_factor=backoff_factor,\n",
    "        status_forcelist=[500, 502, 503, 504],\n",
    "        allowed_methods=[\"GET\"]\n",
    "    )\n",
    "    session.mount('https://', HTTPAdapter(max_retries=retries))\n",
    "    session.mount('http://', HTTPAdapter(max_retries=retries))\n",
    "\n",
    "    try:\n",
    "        with session.get(url, stream=True, timeout=60) as r:\n",
    "            r.raise_for_status()\n",
    "            total_size = int(r.headers.get('content-length', 0))\n",
    "            with open(dest_path, 'wb') as f, tqdm(total=total_size, unit='B', unit_scale=True, desc=dest_path.split('/')[-1]) as pbar:\n",
    "                for chunk in r.iter_content(chunk_size=chunk_size):\n",
    "                    if chunk:\n",
    "                        f.write(chunk)\n",
    "                        pbar.update(len(chunk))\n",
    "        print(f\"Download completed: {dest_path}\")\n",
    "    except Exception as e:\n",
    "        print(f\"Download failed: {e}\")\n",
    "        raise\n"
   ]
  },
  {
   "cell_type": "code",
   "execution_count": 0,
   "metadata": {
    "application/vnd.databricks.v1+cell": {
     "cellMetadata": {
      "byteLimit": 2048000,
      "rowLimit": 10000
     },
     "inputWidgets": {},
     "nuid": "363ca1c6-a93a-4ef3-99ce-e910e771b657",
     "showTitle": false,
     "tableResultSettingsMap": {},
     "title": ""
    }
   },
   "outputs": [],
   "source": [
    "import os\n",
    "\n",
    "def create_volume_file_from_url(url, volume_prefix):\n",
    "    \"\"\"\n",
    "    Download a file from a URL to a Databricks volume, auto-generating the file path.\n",
    "    Args:\n",
    "        url (str): The URL to download from.\n",
    "        volume_prefix (str): The volume path prefix (e.g., '/Volumes/catalog/schema/volume').\n",
    "    Returns:\n",
    "        str: The full destination path of the downloaded file.\n",
    "    \"\"\"\n",
    "    filename = os.path.basename(url)\n",
    "    dest_path = os.path.join(volume_prefix, filename)\n",
    "    return dest_path\n"
   ]
  },
  {
   "cell_type": "code",
   "execution_count": 0,
   "metadata": {
    "application/vnd.databricks.v1+cell": {
     "cellMetadata": {
      "byteLimit": 2048000,
      "rowLimit": 10000
     },
     "inputWidgets": {},
     "nuid": "042af9a7-ecdd-471c-80ef-b5f1aa3e9586",
     "showTitle": false,
     "tableResultSettingsMap": {},
     "title": ""
    }
   },
   "outputs": [],
   "source": [
    "dest_path = create_volume_file_from_url(url, f\"/Volumes/{catalog}/{schema}/{volume}/fileprefix/\")"
   ]
  },
  {
   "cell_type": "code",
   "execution_count": 0,
   "metadata": {
    "application/vnd.databricks.v1+cell": {
     "cellMetadata": {
      "byteLimit": 2048000,
      "rowLimit": 10000
     },
     "inputWidgets": {},
     "nuid": "514f2d02-f796-4feb-83f5-f232fb0ee303",
     "showTitle": false,
     "tableResultSettingsMap": {},
     "title": ""
    }
   },
   "outputs": [],
   "source": [
    "from pathlib import Path\n",
    "\n",
    "def create_base_directories(filepath):\n",
    "    \"\"\"\n",
    "    Create all base directories for the given file path if they do not exist.\n",
    "    Args:\n",
    "        filepath (str): The full file path for which to create base directories.\n",
    "    \"\"\"\n",
    "    base_dir = Path(filepath).parent\n",
    "    base_dir.mkdir(parents=True, exist_ok=True)\n",
    "    return str(base_dir)\n"
   ]
  },
  {
   "cell_type": "code",
   "execution_count": 0,
   "metadata": {
    "application/vnd.databricks.v1+cell": {
     "cellMetadata": {
      "byteLimit": 2048000,
      "rowLimit": 10000
     },
     "inputWidgets": {},
     "nuid": "f77b615e-ba1f-4352-92dc-66f7953c560b",
     "showTitle": false,
     "tableResultSettingsMap": {},
     "title": ""
    }
   },
   "outputs": [],
   "source": [
    "create_base_directories(dest_path)\n",
    "download_file_with_retries(url, dest_path)"
   ]
  },
  {
   "cell_type": "code",
   "execution_count": 0,
   "metadata": {
    "application/vnd.databricks.v1+cell": {
     "cellMetadata": {
      "byteLimit": 2048000,
      "rowLimit": 10000
     },
     "inputWidgets": {},
     "nuid": "ec3c9b9c-da36-44d8-8733-9acaf09dfd6f",
     "showTitle": true,
     "tableResultSettingsMap": {},
     "title": "Create base directories for file path"
    }
   },
   "outputs": [],
   "source": [
    "# download md5 file and check the checksum\n",
    "md5_url = url.replace(\".7z\", \".md5\")\n",
    "md5_dest_path = create_volume_file_from_url(md5_url, f\"/Volumes/{catalog}/{schema}/{volume}/fileprefix/\")\n",
    "#download_file_with_retries(md5_url, md5_dest_path)"
   ]
  }
 ],
 "metadata": {
  "application/vnd.databricks.v1+notebook": {
   "computePreferences": null,
   "dashboards": [],
   "environmentMetadata": {
    "base_environment": "dbe_0c235d96-4bc7-4fb5-b118-17fd1dad0124",
    "environment_version": "4"
   },
   "inputWidgetPreferences": null,
   "language": "python",
   "notebookMetadata": {
    "pythonIndentUnit": 2
   },
   "notebookName": "01_download_from_ign",
   "widgets": {}
  },
  "language_info": {
   "name": "python"
  }
 },
 "nbformat": 4,
 "nbformat_minor": 0
}
